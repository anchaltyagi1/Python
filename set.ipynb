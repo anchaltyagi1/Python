{
  "nbformat": 4,
  "nbformat_minor": 0,
  "metadata": {
    "colab": {
      "provenance": [],
      "authorship_tag": "ABX9TyP6KovqwHWfQdM9y1JbnA/k",
      "include_colab_link": true
    },
    "kernelspec": {
      "name": "python3",
      "display_name": "Python 3"
    },
    "language_info": {
      "name": "python"
    }
  },
  "cells": [
    {
      "cell_type": "markdown",
      "metadata": {
        "id": "view-in-github",
        "colab_type": "text"
      },
      "source": [
        "<a href=\"https://colab.research.google.com/github/anchaltyagi1/Python/blob/main/set.ipynb\" target=\"_parent\"><img src=\"https://colab.research.google.com/assets/colab-badge.svg\" alt=\"Open In Colab\"/></a>"
      ]
    },
    {
      "cell_type": "markdown",
      "source": [
        "## **Sets**"
      ],
      "metadata": {
        "id": "tZ-GvNaLt0bo"
      }
    },
    {
      "cell_type": "code",
      "source": [
        "testSet={\"Anchal\",100,True,\"Laurence\",100,\"Anchal\"}\n",
        "testSet.add(\"Sara\")\n",
        "testSet.remove(100)\n",
        "testSet.pop()\n",
        "val =(\"Anchal\" in testSet)\n",
        "print(val)\n",
        "print(testSet)"
      ],
      "metadata": {
        "colab": {
          "base_uri": "https://localhost:8080/"
        },
        "id": "lctF9k0vt3ZP",
        "outputId": "691f273f-b8f3-43a6-cfa3-2ed305ef012e"
      },
      "execution_count": 4,
      "outputs": [
        {
          "output_type": "stream",
          "name": "stdout",
          "text": [
            "True\n",
            "{'Anchal', 'Laurence', 'Sara'}\n"
          ]
        }
      ]
    }
  ]
}