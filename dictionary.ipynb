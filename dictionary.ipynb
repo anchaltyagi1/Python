{
  "nbformat": 4,
  "nbformat_minor": 0,
  "metadata": {
    "colab": {
      "provenance": [],
      "authorship_tag": "ABX9TyM61Komp5YxUncwKES1GyVK",
      "include_colab_link": true
    },
    "kernelspec": {
      "name": "python3",
      "display_name": "Python 3"
    },
    "language_info": {
      "name": "python"
    }
  },
  "cells": [
    {
      "cell_type": "markdown",
      "metadata": {
        "id": "view-in-github",
        "colab_type": "text"
      },
      "source": [
        "<a href=\"https://colab.research.google.com/github/anchaltyagi1/Python/blob/main/dictionary.ipynb\" target=\"_parent\"><img src=\"https://colab.research.google.com/assets/colab-badge.svg\" alt=\"Open In Colab\"/></a>"
      ]
    },
    {
      "cell_type": "markdown",
      "source": [
        "## **Dictionary**"
      ],
      "metadata": {
        "id": "0JMKD5o0vRH1"
      }
    },
    {
      "cell_type": "code",
      "source": [
        "# key value pair\n",
        "#to store multiple values to a variable\n",
        "#we can nest dictionary in the dictionary\n",
        "#duplicate will be remove\n",
        "\n",
        "#print one by one by commenting another codes.\n",
        "\n",
        "testDic = {\n",
        "    \"first\":\"value\",\n",
        "    \"key\":{\"one\":\"test\",\"two\":\"test2\"},\"num\":100,\"num\":200,\"num\":300,\"boo\":True\n",
        "}\n",
        "testDic[\"first\"]=\"test value\"  #change value of first key\n",
        "\n",
        "val =testDic[\"first\"]  #value at first key\n",
        "\n",
        "val=testDic[\"num\"] #will give last num value\n",
        "\n",
        "val=testDic[\"key\"] #to access the nested dictionary.\n",
        "\n",
        "val=testDic[\"key\"] [\"two\"] #to access the nested dictionary's value of 2\n",
        "\n",
        "testDic[\"test\"]=10000   #add key value pair to the dictionary\n",
        "\n",
        "testDic.pop(\"key\")  #will remove the key\n",
        "\n",
        "# testDic.clear()    #clear all the dictionary\n",
        "\n",
        "val =testDic.keys()   #will show all thw keys\n",
        "\n",
        "val =testDic.values()  #will show all thw values\n",
        "\n",
        "test2={\n",
        "    \"first\":100,\n",
        "    \"second\":\"values\",\n",
        "    \"third\":True\n",
        "}\n",
        "\n",
        "print(test2)\n",
        "\n",
        "print(testDic) #print dictionary\n",
        "\n",
        "print(val) #print the value\n",
        "\n",
        "print(testDic[\"test\"])   #print the value of test key\n"
      ],
      "metadata": {
        "id": "noqZ1HyEvT-I",
        "colab": {
          "base_uri": "https://localhost:8080/"
        },
        "outputId": "466ed0fe-fabb-4980-d5a9-0a488652bbcc"
      },
      "execution_count": 13,
      "outputs": [
        {
          "output_type": "stream",
          "name": "stdout",
          "text": [
            "{'first': 100, 'second': 'values', 'third': True}\n",
            "{'first': 'test value', 'num': 300, 'boo': True, 'test': 10000}\n",
            "dict_values(['test value', 300, True, 10000])\n",
            "10000\n"
          ]
        }
      ]
    },
    {
      "cell_type": "code",
      "source": [],
      "metadata": {
        "id": "nG6aEfgMGc_-"
      },
      "execution_count": null,
      "outputs": []
    }
  ]
}