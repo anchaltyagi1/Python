{
  "nbformat": 4,
  "nbformat_minor": 0,
  "metadata": {
    "colab": {
      "provenance": [],
      "authorship_tag": "ABX9TyP94Zfo8GV7rr7NY4TQQBNu",
      "include_colab_link": true
    },
    "kernelspec": {
      "name": "python3",
      "display_name": "Python 3"
    },
    "language_info": {
      "name": "python"
    }
  },
  "cells": [
    {
      "cell_type": "markdown",
      "metadata": {
        "id": "view-in-github",
        "colab_type": "text"
      },
      "source": [
        "<a href=\"https://colab.research.google.com/github/anchaltyagi1/Python/blob/main/different%20Functions%20In%20List.ipynb\" target=\"_parent\"><img src=\"https://colab.research.google.com/assets/colab-badge.svg\" alt=\"Open In Colab\"/></a>"
      ]
    },
    {
      "cell_type": "markdown",
      "source": [
        "# **Different list functions**"
      ],
      "metadata": {
        "id": "wzzdaWZYstGZ"
      }
    },
    {
      "cell_type": "code",
      "source": [
        "testList=[50,100,\"Laurence\",\"Hello\",50,1000,True]\n",
        "a,b,c,d,e,f,g =  testList\n",
        "\n",
        "#  #at index 2 inset sara\n",
        "# testList.insert(2,\"Sara\")\n",
        "\n",
        "#  #append use to add item in end\n",
        "# testList.append(\"end\")\n",
        "\n",
        "#  #replace the item at index 0 by New\n",
        "# testList[0] =\"New\"\n",
        "\n",
        "#  #duplicate values are allowed\n",
        "# print(testList)\n",
        "\n",
        "#  #laurence (indexing start from 0 to n-1)\n",
        "# print(testList[2])\n",
        "\n",
        "# # will remove the 100 from list(remove by value)\n",
        "# testList.remove(100)\n",
        "\n",
        "# #will delete last item\n",
        "# value = testList.pop()\n",
        "# print(value)\n",
        "# print(testList)\n",
        "\n",
        "\n",
        "# #will delete 3 item\n",
        "# value = testList.pop(3)\n",
        "# print(value)\n",
        "# print(testList)\n",
        "\n",
        "\n",
        "# #will delete the list item\n",
        "# del testList[1]\n",
        "# print(testList)\n",
        "\n",
        "# #to clear entire list\n",
        "# testList.clear()\n",
        "# print (testList)\n",
        "\n",
        "\n",
        "# print(c)\n",
        "\n",
        "# print(len(testList))\n",
        "# print(testList[-1]) #last item\n",
        "# print(testList[-2])\n",
        "# print(testList[1:3]) #index 1 to index 2 (100,Laurence)\n",
        "# print(testList[:3]) #index 0 to 2(3 items)\n",
        "# print(testList.index( \"Sara\"))  #will give index of sara\n",
        "\n",
        "# val=(\"Sara\"in testList)  #item is present in list or not\n",
        "# print(val)\n",
        "# val1=(\"Anchal\"in testList)\n",
        "# print(val1)\n",
        "\n",
        "\n",
        "\n",
        "list1=[\"Anchal\",\"Happy\",\"Riya\",\"Harsh\"]\n",
        "list1.sort()  #to sort the list\n",
        "\n",
        "print(list1)\n",
        "\n",
        "list1.reverse()  #to reverse the list\n",
        "\n",
        "print(list1)\n",
        "\n",
        "copylist=list1.copy()\n",
        "copylist.append(\"New\")\n",
        "print(copylist) #new will copied here\n",
        "print(list1) #same list1\n",
        "\n",
        "\n",
        "\n",
        "\n",
        "\n",
        "\n",
        "\n",
        "\n",
        "\n",
        "\n"
      ],
      "metadata": {
        "colab": {
          "base_uri": "https://localhost:8080/"
        },
        "id": "FoSRk5mXs0-J",
        "outputId": "f7c49e04-2ae2-49e3-d662-f3de0bc5dfdb"
      },
      "execution_count": 34,
      "outputs": [
        {
          "output_type": "stream",
          "name": "stdout",
          "text": [
            "['Anchal', 'Happy', 'Harsh', 'Riya']\n",
            "['Riya', 'Harsh', 'Happy', 'Anchal']\n",
            "['Riya', 'Harsh', 'Happy', 'Anchal', 'New']\n",
            "['Riya', 'Harsh', 'Happy', 'Anchal']\n"
          ]
        }
      ]
    }
  ]
}