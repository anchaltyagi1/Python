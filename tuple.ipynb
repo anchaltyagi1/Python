{
  "nbformat": 4,
  "nbformat_minor": 0,
  "metadata": {
    "colab": {
      "provenance": [],
      "authorship_tag": "ABX9TyNHkjMfqyYvzlD9RooT2MDQ",
      "include_colab_link": true
    },
    "kernelspec": {
      "name": "python3",
      "display_name": "Python 3"
    },
    "language_info": {
      "name": "python"
    }
  },
  "cells": [
    {
      "cell_type": "markdown",
      "metadata": {
        "id": "view-in-github",
        "colab_type": "text"
      },
      "source": [
        "<a href=\"https://colab.research.google.com/github/anchaltyagi1/Python/blob/main/tuple.ipynb\" target=\"_parent\"><img src=\"https://colab.research.google.com/assets/colab-badge.svg\" alt=\"Open In Colab\"/></a>"
      ]
    },
    {
      "cell_type": "markdown",
      "source": [
        "# **Tuples**"
      ],
      "metadata": {
        "id": "nNnutKJGrdxi"
      }
    },
    {
      "cell_type": "code",
      "source": [
        "#can't update, change and remove items from the tuples.\n",
        "\n",
        "testTuple =(\"Anchal\",\"Riya\",\"Ishu\", 100,True,\"sara\",\"Siya\")\n",
        "val =len(testTuple)\n",
        "print(testTuple)\n",
        "val=testTuple[2]\n",
        "print(val)"
      ],
      "metadata": {
        "colab": {
          "base_uri": "https://localhost:8080/"
        },
        "id": "rJH2wWGsrwVv",
        "outputId": "9248b465-08c3-45a2-9ed1-3c6999161ee8"
      },
      "execution_count": 3,
      "outputs": [
        {
          "output_type": "stream",
          "name": "stdout",
          "text": [
            "('Anchal', 'Riya', 'Ishu', 100, True, 'sara', 'Siya')\n",
            "Ishu\n"
          ]
        }
      ]
    }
  ]
}