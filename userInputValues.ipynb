{
  "nbformat": 4,
  "nbformat_minor": 0,
  "metadata": {
    "colab": {
      "provenance": [],
      "authorship_tag": "ABX9TyN+vP+ah2BSEHa7xJbSA/3f",
      "include_colab_link": true
    },
    "kernelspec": {
      "name": "python3",
      "display_name": "Python 3"
    },
    "language_info": {
      "name": "python"
    }
  },
  "cells": [
    {
      "cell_type": "markdown",
      "metadata": {
        "id": "view-in-github",
        "colab_type": "text"
      },
      "source": [
        "<a href=\"https://colab.research.google.com/github/anchaltyagi1/Python/blob/main/userInputValues.ipynb\" target=\"_parent\"><img src=\"https://colab.research.google.com/assets/colab-badge.svg\" alt=\"Open In Colab\"/></a>"
      ]
    },
    {
      "cell_type": "markdown",
      "source": [
        "# **User Input Values**"
      ],
      "metadata": {
        "id": "PU8R9Ga1Rcr6"
      }
    },
    {
      "cell_type": "code",
      "source": [
        "val=input(\"What is your favorite numbver 1-9:\")\n",
        "# val = int(val)  #it wi9ll give an error because we can only concatenate the string\n",
        "\n",
        "\n",
        "boo =val.isnumeric()\n",
        "print(boo)\n",
        "message=\"Sorry not a number\"\n",
        "if(boo):\n",
        "  num =int(val)\n",
        "  print(type(num))\n",
        "  print(\"You entered \" +val)\n",
        "  message=\"Great your number is \" +val\n",
        "print(message)"
      ],
      "metadata": {
        "colab": {
          "base_uri": "https://localhost:8080/"
        },
        "id": "3GrM17TORjS3",
        "outputId": "1aae30c2-6203-4882-bf71-5c935f5f807c"
      },
      "execution_count": 11,
      "outputs": [
        {
          "output_type": "stream",
          "name": "stdout",
          "text": [
            "What is your favorite numbver 1-9:test\n",
            "False\n",
            "Sorry not a number\n"
          ]
        }
      ]
    },
    {
      "cell_type": "code",
      "source": [],
      "metadata": {
        "id": "M9C5WuvnTcf-"
      },
      "execution_count": null,
      "outputs": []
    }
  ]
}