{
  "nbformat": 4,
  "nbformat_minor": 0,
  "metadata": {
    "colab": {
      "provenance": [],
      "authorship_tag": "ABX9TyPdXNbXBVq9Gyc9KAgGPYSF",
      "include_colab_link": true
    },
    "kernelspec": {
      "name": "python3",
      "display_name": "Python 3"
    },
    "language_info": {
      "name": "python"
    }
  },
  "cells": [
    {
      "cell_type": "markdown",
      "metadata": {
        "id": "view-in-github",
        "colab_type": "text"
      },
      "source": [
        "<a href=\"https://colab.research.google.com/github/anchaltyagi1/Python/blob/main/simpleCalculator.ipynb\" target=\"_parent\"><img src=\"https://colab.research.google.com/assets/colab-badge.svg\" alt=\"Open In Colab\"/></a>"
      ]
    },
    {
      "cell_type": "markdown",
      "source": [
        "# **Project-Simple Calculator**"
      ],
      "metadata": {
        "id": "gnqZ77Q_io2P"
      }
    },
    {
      "cell_type": "code",
      "source": [
        "num1=int(input(\"First Number:\"))\n",
        "num2=int(input(\"Second Number:\"))\n",
        "total=num1+num2\n",
        "cal =str(num1) + \"+\" +str(num2) + \"=\" + str(total)\n",
        "message=\"your total is \" + str(total)\n",
        "\n",
        "print(cal)\n",
        "print(message)\n",
        "\n",
        "diff=num1-num2\n",
        "cal1=str(num1) + \"-\" +str(num2) + \"=\" + str(diff)\n",
        "message1=\"your difference is \" + str(diff)\n",
        "print(cal1)\n",
        "print(message1)\n",
        "\n",
        "mul=num1*num2\n",
        "cal2=str(num1) + \"*\" +str(num2) + \"=\" + str(mul)\n",
        "message2=\"your multiplication is \" + str(mul)\n",
        "print(cal2)\n",
        "print(message2)\n",
        "\n",
        "division=num1/num2\n",
        "cal3=str(num1) + \"/\" +str(num2) + \"=\" + str(diff)\n",
        "message3=\"your division is \" + str(division)\n",
        "print(cal3)\n",
        "print(message3)\n",
        "\n",
        "rem=num1%num2\n",
        "cal4=str(num1) + \"%\" +str(num2) + \"=\" + str(rem)\n",
        "message4=\"your remainder is \" + str(rem)\n",
        "print(cal4)\n",
        "print(message4)\n",
        "\n",
        "\n",
        "value=num1**num2\n",
        "cal5=str(num1) + \"**\" +str(num2) + \"=\" + str(value)\n",
        "message5=\"your value is \" + str(value)\n",
        "print(cal5)\n",
        "print(message5)"
      ],
      "metadata": {
        "colab": {
          "base_uri": "https://localhost:8080/"
        },
        "id": "3frXba9qivcG",
        "outputId": "4ffdc037-0e07-4561-8509-216b0afc5460"
      },
      "execution_count": 8,
      "outputs": [
        {
          "output_type": "stream",
          "name": "stdout",
          "text": [
            "First Number:2\n",
            "Second Number:3\n",
            "2+3=5\n",
            "your total is 5\n",
            "2-3=-1\n",
            "your difference is -1\n",
            "2*3=6\n",
            "your multiplication is 6\n",
            "2/3=-1\n",
            "your division is 0.6666666666666666\n",
            "2%3=2\n",
            "your remainder is 2\n",
            "2**3=8\n",
            "your value is 8\n"
          ]
        }
      ]
    }
  ]
}