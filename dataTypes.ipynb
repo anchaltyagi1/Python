{
  "nbformat": 4,
  "nbformat_minor": 0,
  "metadata": {
    "colab": {
      "provenance": [],
      "authorship_tag": "ABX9TyMhcmZ4eMjwfw7CBJK2DDgb",
      "include_colab_link": true
    },
    "kernelspec": {
      "name": "python3",
      "display_name": "Python 3"
    },
    "language_info": {
      "name": "python"
    }
  },
  "cells": [
    {
      "cell_type": "markdown",
      "metadata": {
        "id": "view-in-github",
        "colab_type": "text"
      },
      "source": [
        "<a href=\"https://colab.research.google.com/github/anchaltyagi1/Python/blob/main/dataTypes.ipynb\" target=\"_parent\"><img src=\"https://colab.research.google.com/assets/colab-badge.svg\" alt=\"Open In Colab\"/></a>"
      ]
    },
    {
      "cell_type": "markdown",
      "source": [
        "# **Data Types**"
      ],
      "metadata": {
        "id": "XxIwgfFqmyeC"
      }
    },
    {
      "cell_type": "code",
      "source": [
        "a=5\n",
        "print(type(a))\n",
        "a=\"5\"\n",
        "print(type(a))\n",
        "a=True\n",
        "b=False\n",
        "print(type(a))\n",
        "print(type(b))\n",
        "print(5>10) #boolean result for this condition\n",
        "\n",
        "#List Type\n",
        "testList=[50,\"50\", 50, \"100\",True]\n",
        "print(testList)\n",
        "print(testList[1])\n",
        "print(len(testList))\n",
        "print(type(testList))\n",
        "\n",
        "#Tuple Type (rounded bracket)\n",
        "#ordered and unchangeable\n",
        "testTuple =(50,\"50\", 50, \"100\",True)\n",
        "print(testTuple)\n",
        "print(testTuple[1])\n",
        "print(len(testTuple))\n",
        "print(type(testTuple))\n",
        "\n",
        "testSet ={50,\"50\", 50, \"100\",True}\n",
        "print(testSet)\n",
        "print(len(testSet))\n",
        "print(type(testSet))\n",
        "\n",
        "\n",
        "#Dictionary\n",
        "testDic ={\n",
        "     \"first\" :50,\n",
        "          \"second\":\"50\",\n",
        "           \"third\":50,\n",
        "           \"fourth\":\"100\",\n",
        "           \"fifth\":True\n",
        "           }\n",
        "print(testDic)\n",
        "print(len(testDic))\n",
        "print(type(testDic))\n",
        "\n",
        "\n",
        "testDic ={\n",
        "     \"first\" :50,\n",
        "          \"second\":\"50\",\n",
        "           \"third\":50,\n",
        "           \"a\":\"100\",\n",
        "           \"a\":True\n",
        "           }\n",
        "print(testDic)\n",
        "print(len(testDic))\n",
        "print(type(testDic))\n",
        "\n"
      ],
      "metadata": {
        "colab": {
          "base_uri": "https://localhost:8080/"
        },
        "id": "8SoQ79zMnO_D",
        "outputId": "873d4910-7224-44e8-8535-0f4bc93ba086"
      },
      "execution_count": 12,
      "outputs": [
        {
          "output_type": "stream",
          "name": "stdout",
          "text": [
            "<class 'int'>\n",
            "<class 'str'>\n",
            "<class 'bool'>\n",
            "<class 'bool'>\n",
            "False\n",
            "[50, '50', 50, '100', True]\n",
            "50\n",
            "5\n",
            "<class 'list'>\n",
            "(50, '50', 50, '100', True)\n",
            "50\n",
            "5\n",
            "<class 'tuple'>\n",
            "{'100', True, 50, '50'}\n",
            "4\n",
            "<class 'set'>\n",
            "{'first': 50, 'second': '50', 'third': 50, 'fourth': '100', 'fifth': True}\n",
            "5\n",
            "<class 'dict'>\n",
            "{'first': 50, 'second': '50', 'third': 50, 'a': True}\n",
            "4\n",
            "<class 'dict'>\n"
          ]
        }
      ]
    }
  ]
}