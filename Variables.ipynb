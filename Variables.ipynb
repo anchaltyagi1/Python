{
  "nbformat": 4,
  "nbformat_minor": 0,
  "metadata": {
    "colab": {
      "provenance": [],
      "authorship_tag": "ABX9TyOMsdCx/MvBGm/5lbon07HX",
      "include_colab_link": true
    },
    "kernelspec": {
      "name": "python3",
      "display_name": "Python 3"
    },
    "language_info": {
      "name": "python"
    }
  },
  "cells": [
    {
      "cell_type": "markdown",
      "metadata": {
        "id": "view-in-github",
        "colab_type": "text"
      },
      "source": [
        "<a href=\"https://colab.research.google.com/github/anchaltyagi1/Python/blob/main/Variables.ipynb\" target=\"_parent\"><img src=\"https://colab.research.google.com/assets/colab-badge.svg\" alt=\"Open In Colab\"/></a>"
      ]
    },
    {
      "cell_type": "markdown",
      "source": [
        " **Variables**"
      ],
      "metadata": {
        "id": "5LDf6TkkXkWs"
      }
    },
    {
      "cell_type": "markdown",
      "source": [
        "Defining a Variable\n",
        "\n",
        "\n",
        "1.   Letter or _ or cannot start with a\n",
        "     no.\n",
        "2.   a-z,A-Z,0-9,_\n",
        "\n",
        "\n"
      ],
      "metadata": {
        "id": "lQyFwwYfX0Ks"
      }
    },
    {
      "cell_type": "code",
      "source": [
        "a=5\n",
        "b=10    #no need to be in quotes because it is a no.\n",
        "a=55    #reinitialize  'a'\n",
        "message=\"Hello,World!\"  #string\n",
        "print(a+b)\n",
        "print(5+10)\n",
        "print(message)\n",
        "a= str(a)  #here we are conerting no. into string\n",
        "print(type(a))\n",
        "a=int(a)\n",
        "print(type(a))\n",
        "print(a)\n",
        "\n",
        "str1=\"hello world\"\n",
        "str2='hello'\n",
        "str3= \"hello'world\"\n",
        "\n",
        "Str1='HELLO'\n",
        "print(str1)\n",
        "print(Str1)\n",
        "\n",
        "\n",
        "a,b,c=5,10,15\n",
        "print(c)\n",
        "print(b)\n",
        "print(a)\n",
        "\n",
        "d=e=f=50\n",
        "print(e)\n",
        "\n",
        "data=[\"Laurence\",\"John\",\"Linda\"]\n",
        "g,h,i=data\n",
        "print(h)"
      ],
      "metadata": {
        "colab": {
          "base_uri": "https://localhost:8080/"
        },
        "id": "plYjn-NQYL9U",
        "outputId": "ea656dd2-8ffd-4328-b5d0-8579f654004a"
      },
      "execution_count": 12,
      "outputs": [
        {
          "output_type": "stream",
          "name": "stdout",
          "text": [
            "65\n",
            "15\n",
            "Hello,World!\n",
            "<class 'str'>\n",
            "<class 'int'>\n",
            "55\n",
            "hello world\n",
            "HELLO\n",
            "15\n",
            "10\n",
            "5\n",
            "50\n",
            "John\n"
          ]
        }
      ]
    },
    {
      "cell_type": "markdown",
      "source": [],
      "metadata": {
        "id": "vXmYpevbXYKJ"
      }
    }
  ]
}